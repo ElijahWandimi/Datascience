{
 "cells": [
  {
   "cell_type": "code",
   "execution_count": 1,
   "metadata": {},
   "outputs": [],
   "source": [
    "# importing the libs\n",
    "import pandas as pd\n",
    "import numpy as np\n",
    "import seaborn as sns\n",
    "import matplotlib.pyplot as plt\n",
    "import datetime as dt\n",
    "import warnings\n",
    "warnings.filterwarnings('ignore')\n",
    "import matplotlib\n",
    "sns.set_style('darkgrid')\n",
    "matplotlib.rcParams['font.size']=14\n",
    "matplotlib.rcParams['figure.figsize']= (25, 10)\n",
    "matplotlib.rcParams['figure.facecolor']= '#000000'\n",
    "%matplotlib inline"
   ]
  },
  {
   "cell_type": "code",
   "execution_count": 2,
   "metadata": {},
   "outputs": [],
   "source": [
    "#reading the data\n",
    "train_data = pd.read_csv('datasets/zindi/autoinland/Train.csv')\n",
    "test_data = pd.read_csv('datasets/zindi/autoinland/Test.csv')"
   ]
  },
  {
   "cell_type": "code",
   "execution_count": 3,
   "metadata": {},
   "outputs": [],
   "source": [
    "split = train_data.shape[0]\n",
    "dataset = pd.concat((train_data, test_data), axis=0)"
   ]
  },
  {
   "cell_type": "code",
   "execution_count": 4,
   "metadata": {
    "scrolled": true
   },
   "outputs": [
    {
     "name": "stdout",
     "output_type": "stream",
     "text": [
      "(13281, 14)\n"
     ]
    },
    {
     "data": {
      "text/html": [
       "<div>\n",
       "<style scoped>\n",
       "    .dataframe tbody tr th:only-of-type {\n",
       "        vertical-align: middle;\n",
       "    }\n",
       "\n",
       "    .dataframe tbody tr th {\n",
       "        vertical-align: top;\n",
       "    }\n",
       "\n",
       "    .dataframe thead th {\n",
       "        text-align: right;\n",
       "    }\n",
       "</style>\n",
       "<table border=\"1\" class=\"dataframe\">\n",
       "  <thead>\n",
       "    <tr style=\"text-align: right;\">\n",
       "      <th></th>\n",
       "      <th>ID</th>\n",
       "      <th>Policy Start Date</th>\n",
       "      <th>Policy End Date</th>\n",
       "      <th>Gender</th>\n",
       "      <th>Age</th>\n",
       "      <th>First Transaction Date</th>\n",
       "      <th>No_Pol</th>\n",
       "      <th>Car_Category</th>\n",
       "      <th>Subject_Car_Colour</th>\n",
       "      <th>Subject_Car_Make</th>\n",
       "      <th>LGA_Name</th>\n",
       "      <th>State</th>\n",
       "      <th>ProductName</th>\n",
       "      <th>target</th>\n",
       "    </tr>\n",
       "  </thead>\n",
       "  <tbody>\n",
       "    <tr>\n",
       "      <th>1200</th>\n",
       "      <td>ID_ZWQRL8L</td>\n",
       "      <td>2010-02-16</td>\n",
       "      <td>2011-02-15</td>\n",
       "      <td>Male</td>\n",
       "      <td>44</td>\n",
       "      <td>2010-02-16</td>\n",
       "      <td>2</td>\n",
       "      <td>Saloon</td>\n",
       "      <td>NaN</td>\n",
       "      <td>Nissan</td>\n",
       "      <td>Aba North</td>\n",
       "      <td>Aba-North</td>\n",
       "      <td>Car Classic</td>\n",
       "      <td>NaN</td>\n",
       "    </tr>\n",
       "    <tr>\n",
       "      <th>1201</th>\n",
       "      <td>ID_ZWZ92GU</td>\n",
       "      <td>2010-03-18</td>\n",
       "      <td>2011-03-17</td>\n",
       "      <td>Male</td>\n",
       "      <td>28</td>\n",
       "      <td>2010-03-18</td>\n",
       "      <td>1</td>\n",
       "      <td>Saloon</td>\n",
       "      <td>Silver</td>\n",
       "      <td>TOYOTA</td>\n",
       "      <td>NaN</td>\n",
       "      <td>NaN</td>\n",
       "      <td>Car Classic</td>\n",
       "      <td>NaN</td>\n",
       "    </tr>\n",
       "  </tbody>\n",
       "</table>\n",
       "</div>"
      ],
      "text/plain": [
       "              ID Policy Start Date Policy End Date Gender  Age  \\\n",
       "1200  ID_ZWQRL8L        2010-02-16      2011-02-15   Male   44   \n",
       "1201  ID_ZWZ92GU        2010-03-18      2011-03-17   Male   28   \n",
       "\n",
       "     First Transaction Date  No_Pol Car_Category Subject_Car_Colour  \\\n",
       "1200             2010-02-16       2       Saloon                NaN   \n",
       "1201             2010-03-18       1       Saloon             Silver   \n",
       "\n",
       "     Subject_Car_Make   LGA_Name      State  ProductName  target  \n",
       "1200           Nissan  Aba North  Aba-North  Car Classic     NaN  \n",
       "1201           TOYOTA        NaN        NaN  Car Classic     NaN  "
      ]
     },
     "execution_count": 4,
     "metadata": {},
     "output_type": "execute_result"
    }
   ],
   "source": [
    "print(dataset.shape)\n",
    "dataset.tail(2)"
   ]
  },
  {
   "cell_type": "code",
   "execution_count": 40,
   "metadata": {},
   "outputs": [
    {
     "name": "stdout",
     "output_type": "stream",
     "text": [
      "<class 'pandas.core.frame.DataFrame'>\n",
      "Int64Index: 13281 entries, 0 to 1201\n",
      "Data columns (total 21 columns):\n",
      " #   Column                       Non-Null Count  Dtype   \n",
      "---  ------                       --------------  -----   \n",
      " 0   Age                          13281 non-null  int64   \n",
      " 1   No_Pol                       13281 non-null  int64   \n",
      " 2   target                       12079 non-null  category\n",
      " 3   Policy Start Dateyear        13281 non-null  int64   \n",
      " 4   Policy Start Datemonth       13281 non-null  int64   \n",
      " 5   Policy Start Dateday         13281 non-null  int64   \n",
      " 6   Policy End Dateyear          13281 non-null  int64   \n",
      " 7   Policy End Datemonth         13281 non-null  int64   \n",
      " 8   Policy End Dateday           13281 non-null  int64   \n",
      " 9   First Transaction Dateyear   13281 non-null  int64   \n",
      " 10  First Transaction Datemonth  13281 non-null  int64   \n",
      " 11  First Transaction Dateday    13281 non-null  int64   \n",
      " 12  age_div_nopol                13281 non-null  float64 \n",
      " 13  lga_name _freq_encode        13281 non-null  float64 \n",
      " 14  state _freq_encode           13281 non-null  float64 \n",
      " 15  car_make _freq_encode        13281 non-null  float64 \n",
      " 16  car_color _freq_encode       13281 non-null  float64 \n",
      " 17  car_cat _freq_encode         13281 non-null  float64 \n",
      " 18  gender _freq_encode          13281 non-null  float64 \n",
      " 19  prod_name _freq_encode       13281 non-null  float64 \n",
      " 20  age_div_nopol _freq_encode   13281 non-null  float64 \n",
      "dtypes: category(1), float64(9), int64(11)\n",
      "memory usage: 2.1 MB\n"
     ]
    }
   ],
   "source": [
    "dataset.info()"
   ]
  },
  {
   "cell_type": "markdown",
   "metadata": {},
   "source": [
    "### PreProcessing"
   ]
  },
  {
   "cell_type": "code",
   "execution_count": 6,
   "metadata": {},
   "outputs": [],
   "source": [
    "dataset.drop(['ID'], axis=1, inplace=True)"
   ]
  },
  {
   "cell_type": "code",
   "execution_count": 7,
   "metadata": {},
   "outputs": [],
   "source": [
    "fill_fet = ['Gender', 'Car_Category', 'Subject_Car_Colour', 'Subject_Car_Make', 'LGA_Name', 'State']\n",
    "for fet in dataset.columns:\n",
    "    for fet in fill_fet:\n",
    "        dataset[fet] = dataset[fet].fillna(dataset[fet].mode()[0])"
   ]
  },
  {
   "cell_type": "code",
   "execution_count": 8,
   "metadata": {},
   "outputs": [],
   "source": [
    "num_col = ['Policy Start Date', 'Policy End Date', 'First Transaction Date', 'Age', 'Target']\n",
    "for col in dataset.columns:\n",
    "    if col not in num_col:\n",
    "        dataset[col] = dataset[col].astype('category')"
   ]
  },
  {
   "cell_type": "code",
   "execution_count": 9,
   "metadata": {},
   "outputs": [
    {
     "data": {
      "text/plain": [
       "Gender                  7\n",
       "Car_Category           16\n",
       "Subject_Car_Colour     46\n",
       "Subject_Car_Make       75\n",
       "LGA_Name              270\n",
       "State                 113\n",
       "dtype: int64"
      ]
     },
     "execution_count": 9,
     "metadata": {},
     "output_type": "execute_result"
    }
   ],
   "source": [
    "dataset[fill_fet].nunique()"
   ]
  },
  {
   "cell_type": "code",
   "execution_count": 10,
   "metadata": {},
   "outputs": [
    {
     "name": "stdout",
     "output_type": "stream",
     "text": [
      "Gender\n",
      "['Male', 'Female', 'Entity', 'Joint Gender', 'NO GENDER', 'NOT STATED', 'SEX']\n",
      "Categories (7, object): ['Male', 'Female', 'Entity', 'Joint Gender', 'NO GENDER', 'NOT STATED', 'SEX'] \n",
      "\n",
      "Car_Category\n",
      "['Saloon', 'JEEP', 'Motorcycle', 'Truck', 'Bus', ..., 'Wagon', 'Shape Of Vehicle Chasis', 'Sedan', 'Station 4 Wheel', 'Tipper Truck']\n",
      "Length: 16\n",
      "Categories (16, object): ['Saloon', 'JEEP', 'Motorcycle', 'Truck', ..., 'Shape Of Vehicle Chasis', 'Sedan', 'Station 4 Wheel', 'Tipper Truck'] \n",
      "\n",
      "Subject_Car_Colour\n",
      "['Black', 'Grey', 'Red', 'As Attached', 'Blue', ..., 'Yellow & White', 'Beige Mitalic', 'Light Gray', 'Blue Sky', 'Red Maroon']\n",
      "Length: 46\n",
      "Categories (46, object): ['Black', 'Grey', 'Red', 'As Attached', ..., 'Beige Mitalic', 'Light Gray', 'Blue Sky', 'Red Maroon'] \n",
      "\n",
      "Subject_Car_Make\n",
      "['TOYOTA', 'REXTON', 'Lexus', 'Hyundai', 'Iveco', ..., 'BRILLIANCE', 'Buik', 'COMMANDER', 'Bajaj', 'Datsun']\n",
      "Length: 75\n",
      "Categories (75, object): ['TOYOTA', 'REXTON', 'Lexus', 'Hyundai', ..., 'Buik', 'COMMANDER', 'Bajaj', 'Datsun'] \n",
      "\n",
      "LGA_Name\n",
      "['Victoria Island', 'Lagos', 'Ikeja', 'Badagry', 'Eti-Osa', ..., 'Hong', 'Ifako-Agege', 'Benue', 'Okpokwu', 'Ngor-Okpala']\n",
      "Length: 270\n",
      "Categories (270, object): ['Victoria Island', 'Lagos', 'Ikeja', 'Badagry', ..., 'Ifako-Agege', 'Benue', 'Okpokwu', 'Ngor-Okpala'] \n",
      "\n",
      "State\n",
      "['Lagos', 'Benue', 'Eti-Osa', 'Delta', 'Ogun', ..., 'ENUGU-SOUTH', 'Ijebu-North', 'Asari-Toru', 'Idemili-south', 'Ngor-Okpala']\n",
      "Length: 113\n",
      "Categories (113, object): ['Lagos', 'Benue', 'Eti-Osa', 'Delta', ..., 'Ijebu-North', 'Asari-Toru', 'Idemili-south', 'Ngor-Okpala'] \n",
      "\n"
     ]
    }
   ],
   "source": [
    "# unique values\n",
    "for col in fill_fet:\n",
    "    print(col)\n",
    "    print(dataset[col].unique(), '\\n')"
   ]
  },
  {
   "cell_type": "code",
   "execution_count": 11,
   "metadata": {},
   "outputs": [],
   "source": [
    "# gender\n",
    "dataset.Gender = dataset.Gender.replace({'Entity' : 'other',\n",
    "                                        'Joint Gender' : 'other',\n",
    "                                        'NO GENDER' : 'other',\n",
    "                                        'NOT STATED' : 'other',\n",
    "                                        'SEX' : 'other'})"
   ]
  },
  {
   "cell_type": "code",
   "execution_count": 12,
   "metadata": {},
   "outputs": [],
   "source": [
    "# converting dates to datetime objects\n",
    "date_col = ['Policy Start Date', 'Policy End Date', 'First Transaction Date']\n",
    "for col in date_col:\n",
    "    dataset[col] = pd.to_datetime(dataset[col])\n",
    "    \n",
    "for col in date_col:\n",
    "    for date_fet in ['year', 'month', 'day']:\n",
    "        dataset[col+date_fet] = getattr(dataset[col].dt, date_fet)"
   ]
  },
  {
   "cell_type": "code",
   "execution_count": 13,
   "metadata": {},
   "outputs": [],
   "source": [
    "dataset.drop(['Policy Start Date', 'Policy End Date', 'First Transaction Date'], axis=1, inplace=True)"
   ]
  },
  {
   "cell_type": "code",
   "execution_count": 14,
   "metadata": {},
   "outputs": [
    {
     "data": {
      "text/plain": [
       "['Gender',\n",
       " 'Car_Category',\n",
       " 'Subject_Car_Colour',\n",
       " 'Subject_Car_Make',\n",
       " 'LGA_Name',\n",
       " 'State']"
      ]
     },
     "execution_count": 14,
     "metadata": {},
     "output_type": "execute_result"
    }
   ],
   "source": [
    "fill_fet"
   ]
  },
  {
   "cell_type": "code",
   "execution_count": 15,
   "metadata": {},
   "outputs": [],
   "source": [
    "dataset['age_div_nopol'] = dataset.Age.astype(int) / dataset.No_Pol.astype(int)"
   ]
  },
  {
   "cell_type": "code",
   "execution_count": 16,
   "metadata": {},
   "outputs": [],
   "source": [
    "# frequency encoding\n",
    "frq_enc = dataset.groupby('LGA_Name').size()/len(dataset)\n",
    "dataset.loc[:, '{} _freq_encode'.format('lga_name')] = dataset['LGA_Name'].map(frq_enc)\n",
    "dataset.drop(['LGA_Name'], axis=1, inplace=True)"
   ]
  },
  {
   "cell_type": "code",
   "execution_count": 17,
   "metadata": {},
   "outputs": [],
   "source": [
    "frq_enc1 = dataset.groupby('State').size()/len(dataset)\n",
    "dataset.loc[:, '{} _freq_encode'.format('state')] = dataset['State'].map(frq_enc1)\n",
    "frq_enc2 = dataset.groupby('Subject_Car_Make').size()/len(dataset)\n",
    "dataset.loc[:, '{} _freq_encode'.format('car_make')] = dataset['Subject_Car_Make'].map(frq_enc2)\n",
    "frq_enc3 = dataset.groupby('Subject_Car_Colour').size()/len(dataset)\n",
    "dataset.loc[:, '{} _freq_encode'.format('car_color')] = dataset['Subject_Car_Colour'].map(frq_enc3)\n",
    "frq_enc4 = dataset.groupby('Car_Category').size()/len(dataset)\n",
    "dataset.loc[:, '{} _freq_encode'.format('car_cat')] = dataset['Car_Category'].map(frq_enc4)\n",
    "frq_enc5 = dataset.groupby('Gender').size()/len(dataset)\n",
    "dataset.loc[:, '{} _freq_encode'.format('gender')] = dataset['Gender'].map(frq_enc5)"
   ]
  },
  {
   "cell_type": "code",
   "execution_count": 18,
   "metadata": {},
   "outputs": [],
   "source": [
    "frq_enc6 = dataset.groupby('ProductName').size()/len(dataset)\n",
    "dataset.loc[:, '{} _freq_encode'.format('prod_name')] = dataset['ProductName'].map(frq_enc6)\n",
    "frq_enc7 = dataset.groupby('age_div_nopol').size()/len(dataset)\n",
    "dataset.loc[:, '{} _freq_encode'.format('age_div_nopol')] = dataset['age_div_nopol'].map(frq_enc7)"
   ]
  },
  {
   "cell_type": "code",
   "execution_count": 19,
   "metadata": {},
   "outputs": [],
   "source": [
    "dataset.drop(['ProductName', 'Car_Category', 'Subject_Car_Colour', 'Subject_Car_Make', 'Gender', 'State'],\n",
    "            axis=1, inplace=True)"
   ]
  },
  {
   "cell_type": "code",
   "execution_count": 20,
   "metadata": {},
   "outputs": [],
   "source": [
    "dataset['No_Pol'] = dataset['No_Pol'].astype(int)"
   ]
  },
  {
   "cell_type": "code",
   "execution_count": 21,
   "metadata": {},
   "outputs": [],
   "source": [
    "dataset['prod_name _freq_encode'] = dataset['prod_name _freq_encode'].astype(float)\n",
    "# dataset.drop(['prod _name_freq_encode'], axis=1)\n",
    "# prod = dataset['prod_name _freq_encode'] "
   ]
  },
  {
   "cell_type": "markdown",
   "metadata": {},
   "source": [
    "### Training"
   ]
  },
  {
   "cell_type": "code",
   "execution_count": 22,
   "metadata": {},
   "outputs": [],
   "source": [
    "train = dataset[:split]\n",
    "test = dataset[split:]"
   ]
  },
  {
   "cell_type": "code",
   "execution_count": 23,
   "metadata": {},
   "outputs": [],
   "source": [
    "train['target'] = train['target'].astype(int)"
   ]
  },
  {
   "cell_type": "code",
   "execution_count": 24,
   "metadata": {},
   "outputs": [],
   "source": [
    "test.drop(['target'], axis = 1, inplace=True)"
   ]
  },
  {
   "cell_type": "code",
   "execution_count": 25,
   "metadata": {},
   "outputs": [],
   "source": [
    "X, y = train.drop(['target'], axis=1), train['target']"
   ]
  },
  {
   "cell_type": "code",
   "execution_count": 26,
   "metadata": {},
   "outputs": [],
   "source": [
    "from sklearn.preprocessing import StandardScaler\n",
    "scaler = StandardScaler()\n",
    "X_scaled = scaler.fit_transform(X)"
   ]
  },
  {
   "cell_type": "code",
   "execution_count": 27,
   "metadata": {},
   "outputs": [],
   "source": [
    "from sklearn.model_selection import train_test_split\n",
    "X_train, X_test, y_train, y_test = train_test_split(X_scaled, y, test_size=0.25, random_state=42)"
   ]
  },
  {
   "cell_type": "code",
   "execution_count": 28,
   "metadata": {},
   "outputs": [
    {
     "name": "stdout",
     "output_type": "stream",
     "text": [
      "[11:56:26] WARNING: /home/conda/feedstock_root/build_artifacts/xgboost_1598185621802/work/src/learner.cc:516: \n",
      "Parameters: { n_thread, rg_alpha } might not be used.\n",
      "\n",
      "  This may not be accurate due to some parameters are only used in language bindings but\n",
      "  passed down to XGBoost core.  Or some parameters are not used but slip through this\n",
      "  verification. Please open an issue if you find above cases.\n",
      "\n",
      "\n"
     ]
    },
    {
     "data": {
      "text/plain": [
       "0.5104859739643375"
      ]
     },
     "execution_count": 28,
     "metadata": {},
     "output_type": "execute_result"
    }
   ],
   "source": [
    "from xgboost import XGBClassifier\n",
    "xgb = XGBClassifier(learning_rate=1e-4, n_estimators=6000, max_depth=6, n_thread=5, subsample=1.0, rg_alpha=0.007,\n",
    "                   objective='binary:logistic', seed=42, n_jobs=-1)\n",
    "\n",
    "xgb.fit(X_train, y_train)\n",
    "\n",
    "from sklearn.metrics import f1_score\n",
    "y_pred = xgb.predict(X_test)\n",
    "\n",
    "f1_score(y_test, y_pred, average='macro')"
   ]
  },
  {
   "cell_type": "code",
   "execution_count": 48,
   "metadata": {},
   "outputs": [
    {
     "data": {
      "text/plain": [
       "0.2058319039451115"
      ]
     },
     "execution_count": 48,
     "metadata": {},
     "output_type": "execute_result"
    }
   ],
   "source": [
    "from sklearn.ensemble import RandomForestClassifier\n",
    "clf = RandomForestClassifier(n_estimators=6000, criterion='entropy', max_depth=None, n_jobs=-1)\n",
    "clf.fit(X_train, y_train)\n",
    "\n",
    "preds = clf.predict(X_test)\n",
    "f1_score(y_test, preds)"
   ]
  },
  {
   "cell_type": "code",
   "execution_count": 46,
   "metadata": {},
   "outputs": [
    {
     "data": {
      "text/plain": [
       "VotingClassifier(estimators=[('lr',\n",
       "                              LogisticRegression(multi_class='multinomial',\n",
       "                                                 random_state=42)),\n",
       "                             ('rf',\n",
       "                              RandomForestClassifier(criterion='entropy',\n",
       "                                                     n_estimators=500,\n",
       "                                                     n_jobs=-1,\n",
       "                                                     random_state=42)),\n",
       "                             ('xgb',\n",
       "                              XGBClassifier(base_score=None, booster=None,\n",
       "                                            colsample_bylevel=None,\n",
       "                                            colsample_bynode=None,\n",
       "                                            colsample_bytree=None, gamma=None,\n",
       "                                            gpu_id=None, importance_type='g...\n",
       "                                            interaction_constraints=None,\n",
       "                                            learning_rate=0.01,\n",
       "                                            max_delta_step=None, max_depth=None,\n",
       "                                            min_child_weight=None, missing=nan,\n",
       "                                            monotone_constraints=None,\n",
       "                                            n_estimators=500, n_jobs=-1,\n",
       "                                            num_parallel_tree=None,\n",
       "                                            random_state=None, reg_alpha=None,\n",
       "                                            reg_lambda=None,\n",
       "                                            scale_pos_weight=None, seed=42,\n",
       "                                            subsample=None, tree_method=None,\n",
       "                                            validate_parameters=None,\n",
       "                                            verbosity=None))],\n",
       "                 voting='soft')"
      ]
     },
     "execution_count": 46,
     "metadata": {},
     "output_type": "execute_result"
    }
   ],
   "source": [
    "from sklearn.linear_model import LogisticRegression\n",
    "from sklearn.ensemble import VotingClassifier\n",
    "l_reg = LogisticRegression(multi_class='multinomial', random_state=42)\n",
    "r_for = RandomForestClassifier(n_estimators=500, criterion='entropy', n_jobs=-1, random_state=42)\n",
    "xgb = XGBClassifier(learning_rate=1e-2, n_estimators=500, n_jobs=-1, objective='binary:logistic', seed=42)\n",
    "voting = VotingClassifier(estimators=[('lr', l_reg), ('rf', r_for), ('xgb', xgb)], voting='soft')\n",
    "voting.fit(X_train, y_train)"
   ]
  },
  {
   "cell_type": "code",
   "execution_count": 47,
   "metadata": {},
   "outputs": [
    {
     "data": {
      "text/plain": [
       "0.10551558752997604"
      ]
     },
     "execution_count": 47,
     "metadata": {},
     "output_type": "execute_result"
    }
   ],
   "source": [
    "p = voting.predict(X_test)\n",
    "f1_score(y_test, p)"
   ]
  },
  {
   "cell_type": "code",
   "execution_count": 36,
   "metadata": {},
   "outputs": [],
   "source": [
    "test1 = scaler.fit_transform(test)"
   ]
  },
  {
   "cell_type": "code",
   "execution_count": 37,
   "metadata": {},
   "outputs": [],
   "source": [
    "predictions = clf.predict(test1)"
   ]
  },
  {
   "cell_type": "code",
   "execution_count": 38,
   "metadata": {},
   "outputs": [],
   "source": [
    "test1 = pd.read_csv('datasets/zindi/autoinland/Test.csv')"
   ]
  },
  {
   "cell_type": "code",
   "execution_count": 39,
   "metadata": {},
   "outputs": [],
   "source": [
    "submission = pd.DataFrame()\n",
    "submission['ID'] = test1['ID']\n",
    "submission['target'] = predictions.reshape((predictions.shape[0]))\n",
    "submission.to_csv('submission2.csv', index=False)"
   ]
  },
  {
   "cell_type": "code",
   "execution_count": null,
   "metadata": {},
   "outputs": [],
   "source": []
  }
 ],
 "metadata": {
  "kernelspec": {
   "display_name": "Python 3",
   "language": "python",
   "name": "python3"
  },
  "language_info": {
   "codemirror_mode": {
    "name": "ipython",
    "version": 3
   },
   "file_extension": ".py",
   "mimetype": "text/x-python",
   "name": "python",
   "nbconvert_exporter": "python",
   "pygments_lexer": "ipython3",
   "version": "3.8.8"
  }
 },
 "nbformat": 4,
 "nbformat_minor": 4
}
